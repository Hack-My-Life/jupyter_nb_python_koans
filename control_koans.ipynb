{
 "cells": [
  {
   "cell_type": "code",
   "execution_count": null,
   "metadata": {
    "collapsed": true
   },
   "outputs": [],
   "source": [
    "# replace __ with string\n",
    "if True:\n",
    "    result = 'true value'\n",
    "else:\n",
    "    result = 'false value'\n",
    "    #self.assertEqual(__, result)\n",
    "assert __ == result"
   ]
  },
  {
   "cell_type": "code",
   "execution_count": null,
   "metadata": {
    "collapsed": true
   },
   "outputs": [],
   "source": [
    "# replace __ with string\n",
    "result = 'default value'\n",
    "if True:\n",
    "    result = 'true value'\n",
    "assert __ == result"
   ]
  },
  {
   "cell_type": "code",
   "execution_count": null,
   "metadata": {},
   "outputs": [],
   "source": [
    "# replace __ with string\n",
    "if False:\n",
    "    result = 'first value'\n",
    "elif True:\n",
    "    result = 'true value'\n",
    "else:\n",
    "    result = 'default value'\n",
    "assert  __ == result"
   ]
  },
  {
   "cell_type": "code",
   "execution_count": null,
   "metadata": {},
   "outputs": [],
   "source": [
    " # replace __ with an int  \n",
    "i = 1\n",
    "result = 1\n",
    "while i <= 10:\n",
    "    result = result * i\n",
    "    i += 1\n",
    "assert __ == result"
   ]
  },
  {
   "cell_type": "code",
   "execution_count": null,
   "metadata": {},
   "outputs": [],
   "source": [
    "# replace __ with an int\n",
    "i = 1\n",
    "result = 1\n",
    "while True:\n",
    "    if i > 10: break\n",
    "    result = result * i\n",
    "    i += 1\n",
    "assert __ == result"
   ]
  },
  {
   "cell_type": "code",
   "execution_count": null,
   "metadata": {},
   "outputs": [],
   "source": [
    "# replace __ with a list of ints\n",
    "i = 0\n",
    "result = []\n",
    "while i < 10:\n",
    "    i += 1\n",
    "    if (i % 2) == 0: continue\n",
    "    result.append(i)\n",
    "assert __ == result"
   ]
  },
  {
   "cell_type": "code",
   "execution_count": null,
   "metadata": {},
   "outputs": [],
   "source": [
    "# replace __ with a list of strings\n",
    "phrase = [\"fish\", \"and\", \"chips\"]\n",
    "result = []\n",
    "for item in phrase:\n",
    "    result.append(item.upper())\n",
    "assert  __ == result"
   ]
  },
  {
   "cell_type": "code",
   "execution_count": null,
   "metadata": {},
   "outputs": [],
   "source": [
    "# replace __ with regex (in raw string format)\n",
    "import re\n",
    "round_table = [\n",
    "    (\"Lancelot\", \"Blue\"),\n",
    "    (\"Galahad\", \"I don't know!\"),\n",
    "    (\"Robin\", \"Blue! I mean Green!\"),\n",
    "    (\"Arthur\", \"Is that an African Swallow or European Swallow?\")\n",
    "    ]\n",
    "result = []\n",
    "for knight, answer in round_table:\n",
    "        result.append(\"Contestant: '\" + knight + \"'   Answer: '\" + answer + \"'\")\n",
    "text = __\n",
    "\n",
    "assert re.match(text, result[2]) != None #i.e. is a match\n",
    "assert re.match(text, result[0]) == None #i.e. is not a match\n",
    "assert re.match(text, result[1]) == None \n",
    "assert re.match(text, result[3]) == None"
   ]
  }
 ],
 "metadata": {
  "kernelspec": {
   "display_name": "Python 3",
   "language": "python",
   "name": "python3"
  },
  "language_info": {
   "codemirror_mode": {
    "name": "ipython",
    "version": 3
   },
   "file_extension": ".py",
   "mimetype": "text/x-python",
   "name": "python",
   "nbconvert_exporter": "python",
   "pygments_lexer": "ipython3",
   "version": "3.6.1"
  }
 },
 "nbformat": 4,
 "nbformat_minor": 2
}
